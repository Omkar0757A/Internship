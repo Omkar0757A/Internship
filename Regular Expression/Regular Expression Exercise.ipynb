{
 "cells": [
  {
   "cell_type": "code",
   "execution_count": 6,
   "id": "68ed56de",
   "metadata": {},
   "outputs": [
    {
     "name": "stdout",
     "output_type": "stream",
     "text": [
      "Enter a string: Writeapythoncode\n",
      "The string contains only a-z, A-Z, and 0-9 characters.\n"
     ]
    }
   ],
   "source": [
    "#Q1\n",
    "import re\n",
    "\n",
    "def check_string_characters(input_string):\n",
    "    pattern = r'^[a-zA-Z0-9]+$'\n",
    "    if re.match(pattern, input_string):\n",
    "        print(\"The string contains only a-z, A-Z, and 0-9 characters.\")\n",
    "    else:\n",
    "        print(\"The string contains characters other than a-z, A-Z, and 0-9.\")\n",
    "\n",
    "input_string = input(\"Enter a string: \")\n",
    "check_string_characters(input_string)\n"
   ]
  },
  {
   "cell_type": "code",
   "execution_count": 16,
   "id": "86b3c709",
   "metadata": {},
   "outputs": [
    {
     "name": "stdout",
     "output_type": "stream",
     "text": [
      "True\n",
      "False\n"
     ]
    }
   ],
   "source": [
    "#Q2\n",
    "def match_string(pattern, string):\n",
    "    pattern = r'a(b*)' \n",
    "    match = re.fullmatch(pattern, string)\n",
    "    if match:\n",
    "        return True\n",
    "    else:\n",
    "        return False\n",
    "\n",
    "string1 = 'abbb'   \n",
    "string2 = 'ac'      \n",
    "\n",
    "print(match_string(pattern, string1))\n",
    "print(match_string(pattern, string2)) \n"
   ]
  },
  {
   "cell_type": "code",
   "execution_count": 15,
   "id": "daaa6fb5",
   "metadata": {},
   "outputs": [
    {
     "name": "stdout",
     "output_type": "stream",
     "text": [
      "True\n",
      "False\n"
     ]
    }
   ],
   "source": [
    "#Q3\n",
    "def match_string(pattern, string):\n",
    "    pattern = r'a(b+)'\n",
    "    match = re.fullmatch(pattern, string)\n",
    "    if match:\n",
    "        return True\n",
    "    else:\n",
    "        return False\n",
    "\n",
    "  \n",
    "string1 = 'abbbb'   \n",
    "string2 = 'ac'   \n",
    "\n",
    "print(match_string(pattern, string1))  \n",
    "print(match_string(pattern, string2))  \n"
   ]
  },
  {
   "cell_type": "code",
   "execution_count": 25,
   "id": "cd0a294d",
   "metadata": {},
   "outputs": [
    {
     "name": "stdout",
     "output_type": "stream",
     "text": [
      "True\n",
      "True\n",
      "False\n"
     ]
    }
   ],
   "source": [
    "#Q4\n",
    "def match_string(pattern, string):\n",
    "    pattern = r'ab?'\n",
    "    match = re.fullmatch(pattern, string)\n",
    "    if match:\n",
    "        return True\n",
    "    else:\n",
    "        return False\n",
    "\n",
    "string1 = 'ab'   \n",
    "string2 = 'a'   \n",
    "string3 = 'abb'  \n",
    "\n",
    "print(match_string(pattern, string1))  \n",
    "print(match_string(pattern, string2)) \n",
    "print(match_string(pattern, string3)) \n"
   ]
  },
  {
   "cell_type": "code",
   "execution_count": 28,
   "id": "d4c4fced",
   "metadata": {},
   "outputs": [
    {
     "name": "stdout",
     "output_type": "stream",
     "text": [
      "True\n",
      "False\n",
      "False\n"
     ]
    }
   ],
   "source": [
    "#Q5\n",
    "def match_string(pattern, string):\n",
    "    pattern = r'abbb'\n",
    "    match = re.fullmatch(pattern, string)\n",
    "    if match:\n",
    "        return True\n",
    "    else:\n",
    "        return False\n",
    " \n",
    "string1 = 'abbb'   \n",
    "string2 = 'abbbb'   \n",
    "string3 = 'abb'     \n",
    "\n",
    "print(match_string(pattern, string1)) \n",
    "print(match_string(pattern, string2))  \n",
    "print(match_string(pattern, string3))  \n"
   ]
  },
  {
   "cell_type": "code",
   "execution_count": 30,
   "id": "c77046ac",
   "metadata": {},
   "outputs": [
    {
     "name": "stdout",
     "output_type": "stream",
     "text": [
      "['Importance', 'Of', 'Regular', 'Expressions', 'In', 'Python']\n"
     ]
    }
   ],
   "source": [
    "#Q6\n",
    "def split_uppercase(string):\n",
    "    pattern = r'(?<=[a-z])(?=[A-Z])'\n",
    "    return re.split(pattern, string)\n",
    "\n",
    "text = \"ImportanceOfRegularExpressionsInPython\"\n",
    "result = split_uppercase(text)\n",
    "print(result)\n"
   ]
  },
  {
   "cell_type": "code",
   "execution_count": 32,
   "id": "8996ffb9",
   "metadata": {},
   "outputs": [
    {
     "name": "stdout",
     "output_type": "stream",
     "text": [
      "True\n",
      "True\n",
      "False\n",
      "False\n"
     ]
    }
   ],
   "source": [
    "#Q7\n",
    "def match_string(pattern, string):\n",
    "    match = re.fullmatch(pattern, string)\n",
    "    pattern = r'ab{2,3}'   \n",
    "    if match:\n",
    "        return True\n",
    "    else:\n",
    "        return False\n",
    "\n",
    "\n",
    "string1 = 'abb'        \n",
    "string2 = 'abbb'       \n",
    "string3 = 'abbbb'     \n",
    "string4 = 'ab'        \n",
    "\n",
    "print(match_string(pattern, string1))  \n",
    "print(match_string(pattern, string2))  \n",
    "print(match_string(pattern, string3)) \n",
    "print(match_string(pattern, string4))  \n"
   ]
  },
  {
   "cell_type": "code",
   "execution_count": 37,
   "id": "eccdba54",
   "metadata": {},
   "outputs": [
    {
     "name": "stdout",
     "output_type": "stream",
     "text": [
      "['hello_world', 'abc_xyz', 'def_ghi_jkl']\n"
     ]
    }
   ],
   "source": [
    "#Q8\n",
    "def find_sequences(pattern, string):\n",
    "    matches = re.findall(pattern, string)\n",
    "    return matches\n",
    "\n",
    "pattern = r'[a-z]+(?:_[a-z]+)+'  \n",
    "string = 'hello_world abc_xyz def_ghi_jkl'\n",
    "\n",
    "sequences = find_sequences(pattern, string)\n",
    "print(sequences)"
   ]
  },
  {
   "cell_type": "code",
   "execution_count": 39,
   "id": "03558c4a",
   "metadata": {},
   "outputs": [
    {
     "name": "stdout",
     "output_type": "stream",
     "text": [
      "True\n",
      "True\n",
      "True\n",
      "False\n"
     ]
    }
   ],
   "source": [
    "#Q9\n",
    "def match_string(pattern, string):\n",
    "    pattern = r'a.*b$'  \n",
    "    match = re.fullmatch(pattern, string)\n",
    "    if match:\n",
    "        return True\n",
    "    else:\n",
    "        return False\n",
    "\n",
    "string1 = 'ab'    \n",
    "string2 = 'acb'    \n",
    "string3 = 'abb'   \n",
    "string4 = 'ac'     \n",
    "\n",
    "print(match_string(pattern, string1))  \n",
    "print(match_string(pattern, string2))  \n",
    "print(match_string(pattern, string3)) \n",
    "print(match_string(pattern, string4))  \n"
   ]
  },
  {
   "cell_type": "code",
   "execution_count": 46,
   "id": "aa4a9129",
   "metadata": {},
   "outputs": [
    {
     "name": "stdout",
     "output_type": "stream",
     "text": [
      "True\n",
      "True\n",
      "False\n"
     ]
    }
   ],
   "source": [
    "#Q10\n",
    "def match_string(pattern, string):\n",
    "    match = re.match(pattern, string)\n",
    "    pattern = r'^\\w+'  \n",
    "    if match:\n",
    "        return True\n",
    "    else:\n",
    "        return False\n",
    "  \n",
    "string1 = 'Hello, world!'  \n",
    "string2 = '98645321 id my number'  \n",
    "string3 = '::This is a test'  \n",
    "\n",
    "print(match_string(pattern, string1)) \n",
    "print(match_string(pattern, string2))  \n",
    "print(match_string(pattern, string3))\n"
   ]
  },
  {
   "cell_type": "code",
   "execution_count": 8,
   "id": "56a99308",
   "metadata": {},
   "outputs": [
    {
     "name": "stdout",
     "output_type": "stream",
     "text": [
      "True\n",
      "False\n",
      "True\n"
     ]
    }
   ],
   "source": [
    "#Q11\n",
    "import re\n",
    "def match_string(pattern, string):\n",
    "    match = re.fullmatch(pattern, string)\n",
    "    pattern = r'^[a-zA-Z0-9_]+$' \n",
    "    if match:\n",
    "        return True\n",
    "    else:\n",
    "        return False\n",
    "\n",
    "string1 = 'Hello_flIPRobo123'   \n",
    "string2 = 'hello Datascience'        \n",
    "string3 = 'Test123_'          \n",
    "\n",
    "print(match_string(pattern, string1)) \n",
    "print(match_string(pattern, string2))  \n",
    "print(match_string(pattern, string3)) \n"
   ]
  },
  {
   "cell_type": "code",
   "execution_count": 9,
   "id": "8dd8f87e",
   "metadata": {},
   "outputs": [
    {
     "name": "stdout",
     "output_type": "stream",
     "text": [
      "True\n",
      "False\n",
      "True\n"
     ]
    }
   ],
   "source": [
    "#Q12\n",
    "def starts_with_number(number, string):\n",
    "    pattern = r'^{}'.format(number)\n",
    "    return re.match(pattern, string) is not None\n",
    "\n",
    "number = '123'\n",
    "string1 = '123abc'     \n",
    "string2 = '456xyz'     \n",
    "string3 = '12345test' \n",
    "\n",
    "print(starts_with_number(number, string1))  \n",
    "print(starts_with_number(number, string2))  \n",
    "print(starts_with_number(number, string3))  \n"
   ]
  },
  {
   "cell_type": "code",
   "execution_count": 12,
   "id": "291dfc68",
   "metadata": {},
   "outputs": [
    {
     "name": "stdout",
     "output_type": "stream",
     "text": [
      "192.123.1.3\n"
     ]
    }
   ],
   "source": [
    "#Q13\n",
    "\n",
    "def remove_leading_zeros(ip_address):\n",
    "    pattern = r'\\b0+(\\d+)\\b'\n",
    "    modified_ip_address = re.sub(pattern, r'\\1', ip_address)\n",
    "    return modified_ip_address\n",
    "\n",
    "# Example usage:\n",
    "ip_address = '192.123.001.003'\n",
    "modified_ip = remove_leading_zeros(ip_address)\n",
    "print(modified_ip) \n"
   ]
  },
  {
   "cell_type": "code",
   "execution_count": 18,
   "id": "cf28f51a",
   "metadata": {},
   "outputs": [
    {
     "name": "stdout",
     "output_type": "stream",
     "text": [
      "August 15th 1947\n"
     ]
    }
   ],
   "source": [
    "#Q14\n",
    "\n",
    "def find_date(filename):\n",
    "    with open(filename, 'r') as file:\n",
    "        text = file.read()\n",
    "\n",
    "    pattern = r'[A-Za-z]+\\s\\d+(?:st|nd|rd|th)\\s\\d{4}'\n",
    "    match = re.search(pattern, text)\n",
    "    return match.group() if match else None\n",
    "\n",
    "# Example usage:\n",
    "filename = 'sample.txt'\n",
    "date = find_date(filename)\n",
    "print(date)  # Output: August 15th 1947\n"
   ]
  },
  {
   "cell_type": "code",
   "execution_count": 20,
   "id": "f53420eb",
   "metadata": {},
   "outputs": [
    {
     "name": "stdout",
     "output_type": "stream",
     "text": [
      "['fox', 'dog']\n"
     ]
    }
   ],
   "source": [
    "#Q15\n",
    "\n",
    "def search_literals(text, searched_words):\n",
    "    found_words = []\n",
    "    for word in searched_words:\n",
    "        pattern = re.escape(word)\n",
    "        match = re.search(pattern, text)\n",
    "        if match:\n",
    "            found_words.append(match.group())\n",
    "    return found_words\n",
    "\n",
    "text = 'The quick brown fox jumps over the lazy dog.'\n",
    "searched_words = ['fox', 'dog', 'horse']\n",
    "\n",
    "found_words = search_literals(text, searched_words)\n",
    "print(found_words)  \n"
   ]
  },
  {
   "cell_type": "code",
   "execution_count": 22,
   "id": "7ef5be3c",
   "metadata": {},
   "outputs": [
    {
     "name": "stdout",
     "output_type": "stream",
     "text": [
      "[16]\n",
      "fox\n"
     ]
    }
   ],
   "source": [
    "#Q16\n",
    "\n",
    "def search_literal_with_location(text, searched_word):\n",
    "    pattern = re.escape(searched_word)\n",
    "    matches = re.finditer(pattern, text)\n",
    "    locations = [match.start() for match in matches]\n",
    "    return locations\n",
    "\n",
    "# Example usage:\n",
    "text = 'The quick brown fox jumps over the lazy dog.'\n",
    "searched_word = 'fox'\n",
    "\n",
    "locations = search_literal_with_location(text, searched_word)\n",
    "print(locations)\n",
    "print(searched_word)\n"
   ]
  },
  {
   "cell_type": "code",
   "execution_count": 24,
   "id": "4345ed13",
   "metadata": {},
   "outputs": [
    {
     "name": "stdout",
     "output_type": "stream",
     "text": [
      "['exercises', 'exercises', 'exercises']\n"
     ]
    }
   ],
   "source": [
    "#Q17\n",
    "\n",
    "def find_substrings(text, pattern):\n",
    "    matches = re.findall(pattern, text)\n",
    "    return matches\n",
    "\n",
    "text = 'Python exercises, PHP exercises, C# exercises'\n",
    "pattern = 'exercises'\n",
    "\n",
    "substrings = find_substrings(text, pattern)\n",
    "print(substrings)  \n"
   ]
  },
  {
   "cell_type": "code",
   "execution_count": 25,
   "id": "a023f41e",
   "metadata": {},
   "outputs": [
    {
     "name": "stdout",
     "output_type": "stream",
     "text": [
      "Substring 'exercises' found at index 7\n",
      "Substring 'exercises' found at index 22\n",
      "Substring 'exercises' found at index 36\n"
     ]
    }
   ],
   "source": [
    "#Q18\n",
    "\n",
    "def find_substring_occurrences(text, substring):\n",
    "    pattern = re.escape(substring)\n",
    "    matches = re.finditer(pattern, text)\n",
    "    occurrences = [(match.group(), match.start()) for match in matches]\n",
    "    return occurrences\n",
    "\n",
    "text = 'Python exercises, PHP exercises, C# exercises'\n",
    "substring = 'exercises'\n",
    "\n",
    "occurrences = find_substring_occurrences(text, substring)\n",
    "for substring, index in occurrences:\n",
    "    print(f\"Substring '{substring}' found at index {index}\")\n"
   ]
  },
  {
   "cell_type": "code",
   "execution_count": 26,
   "id": "744d9138",
   "metadata": {},
   "outputs": [
    {
     "name": "stdout",
     "output_type": "stream",
     "text": [
      "13-07-2022\n"
     ]
    }
   ],
   "source": [
    "#Q19\n",
    "def convert_date_format(date):\n",
    "    pattern = r'^(\\d{4})-(\\d{2})-(\\d{2})$'\n",
    "    match = re.match(pattern, date)\n",
    "    if match:\n",
    "        day = match.group(3)\n",
    "        month = match.group(2)\n",
    "        year = match.group(1)\n",
    "        converted_date = f\"{day}-{month}-{year}\"\n",
    "        return converted_date\n",
    "    else:\n",
    "        return None\n",
    "\n",
    "date = '2022-07-13'\n",
    "converted_date = convert_date_format(date)\n",
    "print(converted_date)\n"
   ]
  },
  {
   "cell_type": "code",
   "execution_count": 28,
   "id": "fba37180",
   "metadata": {},
   "outputs": [
    {
     "name": "stdout",
     "output_type": "stream",
     "text": [
      "['An', 'apple', 'and', 'an', 'elephant', 'are', 'eating', 'apples', 'and']\n"
     ]
    }
   ],
   "source": [
    "#Q20\n",
    "\n",
    "def find_words_starting_with_a_or_e(text):\n",
    "    pattern = r'\\b[ae]\\w+\\b'\n",
    "    matches = re.findall(pattern, text, re.IGNORECASE)\n",
    "    return matches\n",
    "\n",
    "text = 'An apple and an elephant are eating apples and oranges.'\n",
    "words = find_words_starting_with_a_or_e(text)\n",
    "print(words) "
   ]
  },
  {
   "cell_type": "code",
   "execution_count": 29,
   "id": "82a4d1bc",
   "metadata": {},
   "outputs": [
    {
     "name": "stdout",
     "output_type": "stream",
     "text": [
      "Number: 5, Position: 7\n",
      "Number: 10, Position: 17\n",
      "Number: 15, Position: 33\n"
     ]
    }
   ],
   "source": [
    "#Q21\n",
    "\n",
    "def separate_numbers_with_position(text):\n",
    "    pattern = r'\\d+'\n",
    "    matches = re.finditer(pattern, text)\n",
    "    for match in matches:\n",
    "        number = match.group()\n",
    "        position = match.start()\n",
    "        print(f\"Number: {number}, Position: {position}\")\n",
    "\n",
    "text = 'I have 5 apples, 10 bananas, and 15 oranges.'\n",
    "separate_numbers_with_position(text)\n"
   ]
  },
  {
   "cell_type": "code",
   "execution_count": 30,
   "id": "ce079886",
   "metadata": {},
   "outputs": [
    {
     "name": "stdout",
     "output_type": "stream",
     "text": [
      "100\n"
     ]
    }
   ],
   "source": [
    "#Q22\n",
    "\n",
    "def extract_max_numeric_value(text):\n",
    "    pattern = r'\\b\\d+\\b'\n",
    "    matches = re.findall(pattern, text)\n",
    "    if matches:\n",
    "        max_value = max(map(int, matches))\n",
    "        return max_value\n",
    "    else:\n",
    "        return None\n",
    "\n",
    "text = 'The maximum value is 100, but there are also 50 and 75.'\n",
    "max_value = extract_max_numeric_value(text)\n",
    "print(max_value)"
   ]
  },
  {
   "cell_type": "code",
   "execution_count": 39,
   "id": "4ff3a4ba",
   "metadata": {},
   "outputs": [
    {
     "name": "stdout",
     "output_type": "stream",
     "text": [
      " This Is What We Do Right?\n"
     ]
    }
   ],
   "source": [
    "#Q23\n",
    "\n",
    "def insert_spaces(text):\n",
    "    pattern = r'(?<!\\s)([A-Z][a-z]+)'\n",
    "    modified_text = re.sub(pattern, r' \\1', text)\n",
    "    return modified_text\n",
    "\n",
    "# Example usage:\n",
    "text = 'ThisIsWhatWeDoRight?'\n",
    "modified_text = insert_spaces(text)\n",
    "print(modified_text)\n"
   ]
  },
  {
   "cell_type": "code",
   "execution_count": 40,
   "id": "de3baa35",
   "metadata": {},
   "outputs": [
    {
     "name": "stdout",
     "output_type": "stream",
     "text": [
      "['This', 'Sample', 'With', 'Multiple', 'Sequences', 'Letters']\n"
     ]
    }
   ],
   "source": [
    "#Q24\n",
    "\n",
    "def find_sequences(text):\n",
    "    pattern = r'[A-Z][a-z]+'\n",
    "    sequences = re.findall(pattern, text)\n",
    "    return sequences\n",
    "\n",
    "text = 'This is a Sample text With Multiple Sequences of Letters.'\n",
    "sequences = find_sequences(text)\n",
    "print(sequences)"
   ]
  },
  {
   "cell_type": "code",
   "execution_count": 41,
   "id": "baa53884",
   "metadata": {},
   "outputs": [
    {
     "name": "stdout",
     "output_type": "stream",
     "text": [
      "This a sentence. The test is successful.\n"
     ]
    }
   ],
   "source": [
    "#Q25\n",
    "\n",
    "def remove_duplicate_words(sentence):\n",
    "    pattern = r'\\b(\\w+)\\b\\s+(?=.*\\b\\1\\b)'\n",
    "    modified_sentence = re.sub(pattern, '', sentence)\n",
    "    return modified_sentence\n",
    "\n",
    "sentence = 'This is is a test sentence. The test is successful.'\n",
    "modified_sentence = remove_duplicate_words(sentence)\n",
    "print(modified_sentence)"
   ]
  },
  {
   "cell_type": "code",
   "execution_count": 46,
   "id": "5a8a0a87",
   "metadata": {},
   "outputs": [
    {
     "name": "stdout",
     "output_type": "stream",
     "text": [
      "True\n",
      "False\n",
      "True\n"
     ]
    }
   ],
   "source": [
    "#Q26\n",
    "\n",
    "def is_string_ending_alphanumeric(string):\n",
    "    pattern = r'^.*[a-zA-Z0-9]$'\n",
    "    match = re.match(pattern, string)\n",
    "    if match:\n",
    "        return True\n",
    "    else:\n",
    "        return False\n",
    "    \n",
    "string1 = 'Omkar123'\n",
    "string2 = 'Challenges_'\n",
    "string3 = '927634'\n",
    "\n",
    "print(is_string_ending_alphanumeric(string1))  \n",
    "print(is_string_ending_alphanumeric(string2))  \n",
    "print(is_string_ending_alphanumeric(string3))  "
   ]
  },
  {
   "cell_type": "code",
   "execution_count": 47,
   "id": "25b6b8f5",
   "metadata": {},
   "outputs": [
    {
     "name": "stdout",
     "output_type": "stream",
     "text": [
      "['#Doltiwal', '#xyzabc', '#Demonetization']\n"
     ]
    }
   ],
   "source": [
    "#Q27\n",
    "def extract_hashtags(text):\n",
    "    pattern = r'#\\w+'\n",
    "    hashtags = re.findall(pattern, text)\n",
    "    return hashtags\n",
    "\n",
    "text = \"\"\"RT @kapil_kausik: #Doltiwal I mean #xyzabc is \"hurt\" by #Demonetization as the same has rendered USELESS <ed><U+00A0><U+00BD><ed><U+00B1><U+0089> \"acquired funds\" No wo\"\"\"\n",
    "hashtags = extract_hashtags(text)\n",
    "print(hashtags)"
   ]
  },
  {
   "cell_type": "code",
   "execution_count": 48,
   "id": "271e9b87",
   "metadata": {},
   "outputs": [
    {
     "name": "stdout",
     "output_type": "stream",
     "text": [
      "@Jags123456 Bharat band on 28??<ed><ed>Those who  are protesting #demonetization  are all different party leaders\n"
     ]
    }
   ],
   "source": [
    "#Q28\n",
    "\n",
    "def remove_symbols(text):\n",
    "    pattern = r'<U\\+[\\w]+\\>'\n",
    "    modified_text = re.sub(pattern, '', text)\n",
    "    return modified_text\n",
    "\n",
    "# Example usage:\n",
    "text = \"@Jags123456 Bharat band on 28??<ed><U+00A0><U+00BD><ed><U+00B8><U+0082>Those who  are protesting #demonetization  are all different party leaders\"\n",
    "modified_text = remove_symbols(text)\n",
    "print(modified_text)\n"
   ]
  },
  {
   "cell_type": "code",
   "execution_count": 52,
   "id": "08105b08",
   "metadata": {},
   "outputs": [
    {
     "name": "stdout",
     "output_type": "stream",
     "text": [
      "['12-09-1992', '15-12-1999']\n"
     ]
    }
   ],
   "source": [
    "#Q29\n",
    "\n",
    "def extract_dates_from_file(file_path):\n",
    "    with open(file_path, 'r') as file:\n",
    "        text = file.read()\n",
    "        pattern = r'\\b\\d{2}-\\d{2}-\\d{4}\\b'\n",
    "        dates = re.findall(pattern, text)\n",
    "        return dates\n",
    "\n",
    "# Example usage:\n",
    "file_path = 'Simple.txt'\n",
    "dates = extract_dates_from_file(file_path)\n",
    "print(dates)\n"
   ]
  },
  {
   "cell_type": "code",
   "execution_count": 53,
   "id": "01d3267a",
   "metadata": {},
   "outputs": [
    {
     "name": "stdout",
     "output_type": "stream",
     "text": [
      "Python:Exercises::PHP:exercises:\n"
     ]
    }
   ],
   "source": [
    "#Q30\n",
    "\n",
    "def replace_space_comma_dot_with_colon(text):\n",
    "    pattern = r'[ ,.]'\n",
    "    modified_text = re.sub(pattern, ':', text)\n",
    "    return modified_text\n",
    "\n",
    "text = 'Python Exercises, PHP exercises.'\n",
    "modified_text = replace_space_comma_dot_with_colon(text)\n",
    "print(modified_text)"
   ]
  },
  {
   "cell_type": "code",
   "execution_count": null,
   "id": "17cad454",
   "metadata": {},
   "outputs": [],
   "source": []
  }
 ],
 "metadata": {
  "kernelspec": {
   "display_name": "Python 3 (ipykernel)",
   "language": "python",
   "name": "python3"
  },
  "language_info": {
   "codemirror_mode": {
    "name": "ipython",
    "version": 3
   },
   "file_extension": ".py",
   "mimetype": "text/x-python",
   "name": "python",
   "nbconvert_exporter": "python",
   "pygments_lexer": "ipython3",
   "version": "3.9.13"
  }
 },
 "nbformat": 4,
 "nbformat_minor": 5
}
