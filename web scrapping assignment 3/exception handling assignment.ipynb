{
 "cells": [
  {
   "cell_type": "code",
   "execution_count": 14,
   "id": "11d4770b",
   "metadata": {},
   "outputs": [
    {
     "name": "stdout",
     "output_type": "stream",
     "text": [
      "Requirement already satisfied: selenium in d:\\anaconda2\\lib\\site-packages (4.10.0)\n",
      "Requirement already satisfied: urllib3[socks]<3,>=1.26 in d:\\anaconda2\\lib\\site-packages (from selenium) (1.26.16)\n",
      "Requirement already satisfied: trio~=0.17 in d:\\anaconda2\\lib\\site-packages (from selenium) (0.22.2)\n",
      "Requirement already satisfied: trio-websocket~=0.9 in d:\\anaconda2\\lib\\site-packages (from selenium) (0.10.3)\n",
      "Requirement already satisfied: certifi>=2021.10.8 in d:\\anaconda2\\lib\\site-packages (from selenium) (2023.5.7)\n",
      "Requirement already satisfied: attrs>=20.1.0 in d:\\anaconda2\\lib\\site-packages (from trio~=0.17->selenium) (22.1.0)\n",
      "Requirement already satisfied: sortedcontainers in d:\\anaconda2\\lib\\site-packages (from trio~=0.17->selenium) (2.4.0)\n",
      "Requirement already satisfied: idna in d:\\anaconda2\\lib\\site-packages (from trio~=0.17->selenium) (3.4)\n",
      "Requirement already satisfied: outcome in d:\\anaconda2\\lib\\site-packages (from trio~=0.17->selenium) (1.2.0)\n",
      "Requirement already satisfied: sniffio in d:\\anaconda2\\lib\\site-packages (from trio~=0.17->selenium) (1.2.0)\n",
      "Requirement already satisfied: cffi>=1.14 in d:\\anaconda2\\lib\\site-packages (from trio~=0.17->selenium) (1.15.1)\n",
      "Requirement already satisfied: exceptiongroup in d:\\anaconda2\\lib\\site-packages (from trio-websocket~=0.9->selenium) (1.1.2)\n",
      "Requirement already satisfied: wsproto>=0.14 in d:\\anaconda2\\lib\\site-packages (from trio-websocket~=0.9->selenium) (1.2.0)\n",
      "Requirement already satisfied: PySocks!=1.5.7,<2.0,>=1.5.6 in d:\\anaconda2\\lib\\site-packages (from urllib3[socks]<3,>=1.26->selenium) (1.7.1)\n",
      "Requirement already satisfied: pycparser in d:\\anaconda2\\lib\\site-packages (from cffi>=1.14->trio~=0.17->selenium) (2.21)\n",
      "Requirement already satisfied: h11<1,>=0.9.0 in d:\\anaconda2\\lib\\site-packages (from wsproto>=0.14->trio-websocket~=0.9->selenium) (0.14.0)\n"
     ]
    }
   ],
   "source": [
    "#Q1\n",
    "!pip install selenium"
   ]
  },
  {
   "cell_type": "code",
   "execution_count": 15,
   "id": "f5a982a6",
   "metadata": {},
   "outputs": [],
   "source": [
    "import selenium\n",
    "from selenium import webdriver\n",
    "import pandas as pd\n",
    "from selenium.webdriver.common.by import By\n",
    "import warnings\n",
    "warnings.filterwarnings('ignore')\n",
    "import time\n",
    "from selenium.common.exceptions import NoSuchElementException\n",
    "from webdriver_manager.chrome import ChromeDriverManager\n",
    "from selenium.webdriver.chrome.service import Service"
   ]
  },
  {
   "cell_type": "code",
   "execution_count": 16,
   "id": "c65a7ae7",
   "metadata": {},
   "outputs": [],
   "source": [
    "from selenium import webdriver\n",
    "from selenium.webdriver.support.ui import WebDriverWait\n",
    "from selenium.webdriver.support import expected_conditions as EC\n",
    "from selenium.webdriver.common.by import By"
   ]
  },
  {
   "cell_type": "code",
   "execution_count": 17,
   "id": "4b6991de",
   "metadata": {},
   "outputs": [],
   "source": [
    "driver = webdriver.Chrome(service=Service(ChromeDriverManager(version='114.0.5735.90').install()))\n",
    "driver.get('https://www.amazon.com/')"
   ]
  },
  {
   "cell_type": "code",
   "execution_count": 18,
   "id": "f32ff760",
   "metadata": {},
   "outputs": [],
   "source": [
    "from selenium import webdriver\n",
    "from selenium.webdriver.common.keys import Keys\n",
    "from bs4 import BeautifulSoup\n"
   ]
  },
  {
   "cell_type": "code",
   "execution_count": 42,
   "id": "8bc64ddd",
   "metadata": {},
   "outputs": [],
   "source": [
    "def search_amazon_products(search_query):\n",
    "    driver = webdriver.Chrome(service=Service(ChromeDriverManager(version='114.0.5735.90').install()))\n",
    "    try:\n",
    "        driver.get('https://www.amazon.com/')\n",
    "        \n",
    "        search_box = driver.find_element(By.ID,\"twotabsearchtextbox\")\n",
    "        search_box.clear()\n",
    "        search_box.send_keys(search_query)\n",
    "        search_box.send_keys(Keys.RETURN)\n",
    "        \n",
    "        driver.implicitly_wait(5)\n",
    "        \n",
    "        soup = BeautifulSoup(driver.page_source, 'html.parser')\n",
    "        product_list = soup.find_all('div', class_='s-result-item')\n",
    "        \n",
    "        for product in product_list:\n",
    "            product_name = product.find('span', class_='a-text-normal').text.strip()\n",
    "            print(product_name)\n",
    "            \n",
    "    except Exception as e:\n",
    "        print(\"Error:\", e)\n",
    "    \n",
    "    finally:\n",
    "        # Clean up resources (close the browser)\n",
    "        driver.quit()\n",
    "\n",
    "    \n",
    "    "
   ]
  },
  {
   "cell_type": "code",
   "execution_count": 44,
   "id": "6f23457c",
   "metadata": {},
   "outputs": [
    {
     "name": "stdout",
     "output_type": "stream",
     "text": [
      "Enter the product you want to search on Amazon: guitar\n",
      "Price and other details may vary based on product size and color.\n",
      "Enya Nova Go Carbon Fiber Acoustic Guitar 1/2 Size Beginner Adult Travel Acustica Guitarra w/Starter Bundle Kit of Colorful Packaging, Acoustic Guitar Strap, Gig Bag, Cleaning Cloth, String(Black)\n",
      "38\" Wood Guitar With Case and Accessories for Kids/Boys/Girls/Teens/Beginners (Sunburst)\n",
      "30\" Wood Classical Guitar with Case and Accessories for Kids/Girls/Boys/Beginners (Pink)\n",
      "Pyle Beginner Acoustic Guitar Kit, 3/4 Junior Size Instrument for Kids, Adults, 36\" Natural Gloss\n",
      "Enya Nova Go Carbon Fiber Acoustic Guitar 1/2 Size Beginner Adult Travel Acustica Guitarra w/Starter Bundle Kit of Colorful Packaging, Acoustic Guitar Strap, Gig Bag, Cleaning Cloth, String(Black)\n",
      "YMC 38\" Blue Beginner Acoustic Guitar Starter Package Student Guitar with Gig Bag,Strap, 3 thickness 9 Picks,2 Pickguards,Pick Holder, Extra Strings, Electronic Tuner -Blue\n",
      "Music Alley MA34-N Classical Junior Guitar, Natural\n",
      "30\" Wood Classical Guitar with Case and Accessories for Kids/Girls/Boys/Beginners (Pink)\n",
      "Pyle Classical Acoustic Guitar Kit, 3/4 Junior Size Instrument for Beginner Kids, Adults, 36\" Sunburst Matte\n",
      "Asmuse 38 inch Acoustic Guitar Kit, Full Size Classical Acoustic Guitar 6 Strings with Gig Bag, Tuner, Picks, Strap Accessories for Beginners Adults Teens (Black)\n",
      "Vangoa Pedal Board with Isolated Power Supply, VPPD-S Aluminum Small Portable Folding Powered Guitar Pedalboard with Carry Bag, 2.8lb, Silver\n",
      "Kids Guitar Ukulele, Musical Instrument for Toddler Ukulele, 4 Strings Guitar for Beginners Ukulele Toy (Brown-Love)\n",
      "WINZZ 39 Inches Classical Guitar Full Size Beginner Acoustic with Online Lessons Bag Capo Tuner Strings\n",
      "Martin Smith Acoustic Guitar Kit with Gig Bag, Plectrums, Pick Holder, Tuner, Strap & Spare Strings 6 Pack, Right, Blue (W-38-BL)\n",
      "Donner HUSH-I Guitar For Travel - Portable Ultra-Light and Quiet Performance Headless Acoustic-Electric Guitar, Maple Body with Removable Frames, Gig Bag, and Accessories\n",
      "First Act Acoustic Sunburst Guitar, 30 Inch - Brass Acoustic Guitar Strings, Tuning Gear, String Post Covers, Steel-Reinforced Neck, Strap Buttons – Musical Instruments\n",
      "Multi Guitar Stand, 3 Guitar Holder Bass Wood Display Rack Electric Guitar Floor Stand (3 Guitar Rack)\n",
      "Kisangel 1pc Kids Beginner Guitar 23 Inch Guitar 6 String Vintage Style Acoustic Guitar Wooden Guitar Music Instruments for Kids(As Shown)\n",
      "Guitar Stand Floor for Multiple Guitars Amp Records Guitar Accessories, Guitar Rack 3 Holders for Bass Acoustic Electric Guitar\n",
      "Ukulele Soprano Mahogany 21 Inch Professional Acoustic Ukelele Four String Wooden Hawaiian Uke Beginner Kit for Kids Students Starter Kit, by Vangoa\n",
      "38\" Wood Guitar With Case and Accessories for Kids/Boys/Girls/Teens/Beginners (Sunburst)\n",
      "Fender FA-125 Dreadnought Acoustic Guitar, Natural, with Gig Bag\n",
      "Music Alley MA-52 30\" Half Size Junior Guitar For Young Kids\n",
      "Pyle Acoustic Guitar Kit, 3/4 Junior Size Steel String Instrument for Beginner Kids, Adults, 36” Mauve\n",
      "Cork Guitar Neck Rest, Guitar Neck Cradle Support Pillow, Guitar Accessories for Repair, Maintenance, Cleaning, String Instrument Luthier Tool, 100% Natural Cork.\n",
      "Multi Guitar Stand, 7 Holder Guitar Rack, Folding Guitar Stand,Guitar Rack for Multiple Guitars for Acoustic, Electric, Bass Guitar & Guitar Bag/Case, Black (7 Holder)\n",
      "2 Pack Professional 10 FT Guitar Cable, 1/4 Inch Instrument Cable- Noise Free and Super Durable Guitar Chord- AMP Cord for Bass, Electric Guitar, Electric Mandolin, Right Angle\n",
      "Vizcaya 38\" Blue Beginner Left-Handed Acoustic Guitar Starter Package Student Guitar with Gig Bag,Strap, Picks, Extra Strings, Electronic Tuner -Blue Left-Handed\n",
      "Donner 30 Inch Kids Electric Guitar Beginner Kits ST Style Mini Electric Guitar for Boys Girls with Amp, 600D Bag, Tuner, Picks, Cable, Strap, Extra Strings, DSJ-100, Black\n",
      "Hinkler 3 String Electric Blues Box Slide Guitar Kit (EBB)\n",
      "Acoustic Guitar 15 Piece Set, 38\" Travel Guitar, Beginner Set, Introductory Practice Guitar For Kids, Students, with Guitar Soft Case, English Instruction Manual Included\n",
      "Squier Mini Stratocaster Electric Guitar, Black, Laurel Fingerboard\n",
      "Kisangel 1pc 21 Inch 6 String Guitar Wooden Guitar Folk Guitar Vintage Style Acoustic Guitar for Kids Beginners(Sun Color)\n",
      "Fender Malibu Player Acoustic Guitar, Burgundy Satin, Walnut Fingerboard\n",
      "Handmade DIY Electric Guitar Kit,Fixed Bridge,Solid Electric Guitar with Free Cutting and Scribbling Support,Well-Made DIY Guitar Kit,Guitar Kits Build Your Own.\n",
      "Gretsch G9500 Jim Dandy 24\" Flat Top Acoustic Guitar, 2-Color Sunburst\n",
      "Kisangel 1pc 23 Inch Acoustic Guitar Wooden Beginner Guitar Music Instruments for Kids Girls Boys Beginners(Pink)\n",
      "Kisangel 1pc Kids Beginner Guitar 23 Inch Guitar 6 String Vintage Style Acoustic Guitar Wooden Guitar Music Instruments for Kids(As Shown)\n",
      "LyxPro 30” Electric Guitar TL Series, Full-Size Paulownia Wood Body, 3-Ply Pickguard, C-Shape Neck, Ashtray Bridge, Quality Gear Tuners, 3-Way Switch & Volume/Tone Controls, 2 Picks Included, Green\n",
      "Guitar Chord Chart for Beginner Adult or Kid, 8'' x 11'' Pocket Guitar Chords Cheatsheets of Acoustic Electric Guitar, Great Guitar Chords Reference Poster to Improve Guitar Technique & Music Theory\n",
      "Getaria Upgrade 2.4GHZ Wireless Guitar System Built-in Rechargeable Lithium Battery Wireless Guitar Transmitter Receiver for Electric Guitar Bass\n",
      "72PCS Guitar Tool Kit，Professional Guitar Repairing Maintenance Tool Kit with Guitar Strings Picks Bridge Pins Gauge Guitar Accessories Gift for Acoustic Guitar Electric guitar Ukulele Bass Banjo\n",
      "ChordBuddy “MADE IN THE USA” - Guitar Learning with Songbook, Lesson Plan, App, and Right Handed ChordBuddy - for Acoustic Guitars only\n",
      "Guitar Chords Chart Poster Reference Circle of Fifths Wheel Guitar Chords With Guide Wall Art Student Educational Music Theory Wall Art for Musicians Beginners 16\"x26\" (with frame)\n",
      "FRETBOARD MEMORIZATION Deck | 54 Guitar Flash Cards | Great Guitar Learning Gift for Guitar Players & Guitar Teachers | Guitar Music Theory | Alternative to Guitar Learning Stickers & Posters\n",
      "Toddmomy 23 Inch Kids Guitar 6 String Toddler Guitar Beginner Guitar Kids Acoustic Guitar 6 String Guitar for Kids Children Music Instrument\n",
      "30\" Wooden Acoustic Guitar for Kids/Boys/Girls/Beginners/Guitar for age 3-5 5-9\n",
      "Guitar: The Circle of Fifths for Guitarists: Learn and Apply Music Theory for Guitarists (Learn Guitar Theory and Technique)\n",
      "Jackson JS Series Dinky Arch Top JS22 Satin Black\n",
      "30\" Wood Acoustic Guitar with Case,guitar book and Accessories for Kids/Girls/Boys/Beginners (Natural)\n",
      "38Inches Acoustic Guitar, 6 Metal Strings Music Musical Instrument Professional Clear Sound for Guitar Starter Gift, Black\n",
      "EVH Minature Guitars EVH Frankenstein Mini Replica Guitar Van Halen (EVH001), Red and White\n",
      "Beginner Classical Acoustic Guitars 36 Inch 3/4 Size Kids Junior Guitar Guitarra Acustica Soft Nylon Strings With Bag, Strap, Tuner, Picks Holder and Wipe\n",
      "Martin Smith Acoustic Guitar Kit with Stand, Tuner, Gig Bag, Strap, Picks, Spare Strings & Online Lessons 6 String, Right, Sunburst (W-101-SB-PK)\n",
      "Pocket Guitar Practice Neck, 6 Fret Portable Guitar Chord Practice Tool for Beginner\n",
      "HOHNER 6 String Acoustic Guitar, Right Handed, Natural (HAG250P)\n",
      "Strong Wind 36 Inch Classical Acoustic Guitar Nylon Strings Guitar Beginner for Students Children Adult With Bag\n",
      "Mini Guitar Strummable 4 String Uke for Boys and Girls or Novelty Gift\n",
      "STOBOK 23 Inch Folk Acoustic Guitar, Mini 6-String Guitar Beginner Music Instrument for Kids Adults Beginners Educational Learning Guitar, Pink\n",
      "Toddmomy Kids Guitar 21 Inch Acoustic Guitar, Classical Acoustic Guitar, Small Size Portable Wooden Guitar for Children Beginner Adult Teen () Toy Guitar\n",
      "Gator Frameworks Guitar Seat with Padded Cushion, Ergonomic Backrest and Fold Out Guitar Stand; Holds both Acoustic and Electric Guitars (GFW-GTR-SEAT)\n",
      "Error: 'NoneType' object has no attribute 'text'\n"
     ]
    }
   ],
   "source": [
    "if __name__ == \"__main__\":\n",
    "    user_input = input(\"Enter the product you want to search on Amazon: \")\n",
    "    search_amazon_products(user_input)"
   ]
  },
  {
   "cell_type": "code",
   "execution_count": 45,
   "id": "6355fbbb",
   "metadata": {},
   "outputs": [],
   "source": [
    "#Q2\n",
    "import pandas as pd\n",
    "from selenium import webdriver\n",
    "from selenium.webdriver.common.keys import Keys\n",
    "from bs4 import BeautifulSoup"
   ]
  },
  {
   "cell_type": "code",
   "execution_count": 66,
   "id": "627f9d1c",
   "metadata": {},
   "outputs": [],
   "source": [
    "def scrape_product_details(product_element):\n",
    "    # Extracting details of a single product\n",
    "    product_data = {}\n",
    "\n",
    "    product_name_element = product_element.find('span', class_='a-size-base-plus a-color-base a-text-normal')\n",
    "    price_element = product_element.find('span', class_='a-price-whole')\n",
    "    return_exchange_element = product_element.find('span', class_='a-truncate-cut')\n",
    "    expected_delivery_element = product_element.find('span', class_='a-text-bold')\n",
    "    availability_element = product_element.find('span', class_='a-size-base-plus')\n",
    "    product_url = product_element.find('a', class_='a-link-normal')['href']\n",
    "\n",
    "    product_data['Name of the Product'] = product_name_element.text.strip() if product_name_element else \"-\"\n",
    "    product_data['Price'] = price_element.text.strip() if price_element else \"-\"\n",
    "    product_data['Return/Exchange'] = return_exchange_element.text.strip() if return_exchange_element else \"-\"\n",
    "    product_data['Expected Delivery'] = expected_delivery_element.text.strip() if expected_delivery_element else \"-\"\n",
    "    product_data['Availability'] = availability_element.text.strip() if availability_element else \"-\"\n",
    "    product_data['Product URL'] = f\"https://www.amazon.in{product_url}\" if product_url else \"-\"\n",
    "\n",
    "    return product_data"
   ]
  },
  {
   "cell_type": "code",
   "execution_count": 69,
   "id": "90806a1a",
   "metadata": {},
   "outputs": [],
   "source": [
    "def search_amazon_products(search_query, num_pages=3):\n",
    "    # Set up the browser driver (Make sure you have the browser driver executable in your system PATH)\n",
    "    driver = webdriver.Chrome(service=Service(ChromeDriverManager(version='114.0.5735.90').install()))\n",
    "\n",
    "    try:\n",
    "        product_details_list = []\n",
    "\n",
    "        for page_num in range(1, num_pages + 1):\n",
    "            # Open Amazon website with the search query and page number\n",
    "            url = f\"https://www.amazon.in/s?k={search_query}&page={page_num}\"\n",
    "            driver.get(url)\n",
    "\n",
    "            # Wait for the search results to load\n",
    "            driver.implicitly_wait(5)\n",
    "\n",
    "            # Extract product details from the search results page using BeautifulSoup\n",
    "            soup = BeautifulSoup(driver.page_source, 'html.parser')\n",
    "            product_list = soup.find_all('div', {'data-component-type': 's-search-result'})\n",
    "\n",
    "            # Scrape details for each product on the current page\n",
    "            for product_element in product_list:\n",
    "                product_data = scrape_product_details(product_element)\n",
    "                product_details_list.append(product_data)\n",
    "\n",
    "        # Create a DataFrame from the product details list\n",
    "        df = pd.DataFrame(product_details_list)\n",
    "\n",
    "        # Save the DataFrame to a CSV file\n",
    "        df.to_csv(\"amazon_products_detailsss.csv\", index=False)\n",
    "\n",
    "    except Exception as e:\n",
    "        print(\"Error:\", e)\n",
    "    finally:\n",
    "        # Clean up resources (close the browser)\n",
    "        driver.quit()"
   ]
  },
  {
   "cell_type": "code",
   "execution_count": 70,
   "id": "33ed00f4",
   "metadata": {},
   "outputs": [
    {
     "name": "stdout",
     "output_type": "stream",
     "text": [
      "Enter the product you want to search on Amazon: guitar\n"
     ]
    }
   ],
   "source": [
    "if __name__ == \"__main__\":\n",
    "    user_input = input(\"Enter the product you want to search on Amazon: \")\n",
    "    search_amazon_products(user_input)"
   ]
  },
  {
   "cell_type": "code",
   "execution_count": null,
   "id": "b95e0ca4",
   "metadata": {},
   "outputs": [],
   "source": []
  },
  {
   "cell_type": "code",
   "execution_count": 1,
   "id": "42ad6bfc",
   "metadata": {},
   "outputs": [
    {
     "name": "stdout",
     "output_type": "stream",
     "text": [
      "Requirement already satisfied: selenium in d:\\anaconda2\\lib\\site-packages (4.11.2)\n",
      "Requirement already satisfied: urllib3[socks]<3,>=1.26 in d:\\anaconda2\\lib\\site-packages (from selenium) (1.26.16)\n",
      "Requirement already satisfied: trio~=0.17 in d:\\anaconda2\\lib\\site-packages (from selenium) (0.22.2)\n",
      "Requirement already satisfied: trio-websocket~=0.9 in d:\\anaconda2\\lib\\site-packages (from selenium) (0.10.3)\n",
      "Requirement already satisfied: certifi>=2021.10.8 in d:\\anaconda2\\lib\\site-packages (from selenium) (2023.5.7)\n",
      "Requirement already satisfied: attrs>=20.1.0 in d:\\anaconda2\\lib\\site-packages (from trio~=0.17->selenium) (22.1.0)\n",
      "Requirement already satisfied: sortedcontainers in d:\\anaconda2\\lib\\site-packages (from trio~=0.17->selenium) (2.4.0)\n",
      "Requirement already satisfied: idna in d:\\anaconda2\\lib\\site-packages (from trio~=0.17->selenium) (3.4)\n",
      "Requirement already satisfied: outcome in d:\\anaconda2\\lib\\site-packages (from trio~=0.17->selenium) (1.2.0)\n",
      "Requirement already satisfied: sniffio in d:\\anaconda2\\lib\\site-packages (from trio~=0.17->selenium) (1.2.0)\n",
      "Requirement already satisfied: cffi>=1.14 in d:\\anaconda2\\lib\\site-packages (from trio~=0.17->selenium) (1.15.1)\n",
      "Requirement already satisfied: exceptiongroup in d:\\anaconda2\\lib\\site-packages (from trio-websocket~=0.9->selenium) (1.1.2)\n",
      "Requirement already satisfied: wsproto>=0.14 in d:\\anaconda2\\lib\\site-packages (from trio-websocket~=0.9->selenium) (1.2.0)\n",
      "Requirement already satisfied: PySocks!=1.5.7,<2.0,>=1.5.6 in d:\\anaconda2\\lib\\site-packages (from urllib3[socks]<3,>=1.26->selenium) (1.7.1)\n",
      "Requirement already satisfied: pycparser in d:\\anaconda2\\lib\\site-packages (from cffi>=1.14->trio~=0.17->selenium) (2.21)\n",
      "Requirement already satisfied: h11<1,>=0.9.0 in d:\\anaconda2\\lib\\site-packages (from wsproto>=0.14->trio-websocket~=0.9->selenium) (0.14.0)\n"
     ]
    }
   ],
   "source": [
    "!pip install selenium"
   ]
  },
  {
   "cell_type": "code",
   "execution_count": 2,
   "id": "57e284e6",
   "metadata": {},
   "outputs": [
    {
     "name": "stdout",
     "output_type": "stream",
     "text": [
      "Requirement already satisfied: webdriver-manager in d:\\anaconda2\\lib\\site-packages (3.8.6)\n",
      "Requirement already satisfied: requests in d:\\anaconda2\\lib\\site-packages (from webdriver-manager) (2.29.0)\n",
      "Requirement already satisfied: python-dotenv in d:\\anaconda2\\lib\\site-packages (from webdriver-manager) (1.0.0)\n",
      "Requirement already satisfied: tqdm in d:\\anaconda2\\lib\\site-packages (from webdriver-manager) (4.65.0)\n",
      "Requirement already satisfied: packaging in d:\\anaconda2\\lib\\site-packages (from webdriver-manager) (23.0)\n",
      "Requirement already satisfied: charset-normalizer<4,>=2 in d:\\anaconda2\\lib\\site-packages (from requests->webdriver-manager) (2.0.4)\n",
      "Requirement already satisfied: idna<4,>=2.5 in d:\\anaconda2\\lib\\site-packages (from requests->webdriver-manager) (3.4)\n",
      "Requirement already satisfied: urllib3<1.27,>=1.21.1 in d:\\anaconda2\\lib\\site-packages (from requests->webdriver-manager) (1.26.16)\n",
      "Requirement already satisfied: certifi>=2017.4.17 in d:\\anaconda2\\lib\\site-packages (from requests->webdriver-manager) (2023.5.7)\n",
      "Requirement already satisfied: colorama in d:\\anaconda2\\lib\\site-packages (from tqdm->webdriver-manager) (0.4.6)\n"
     ]
    }
   ],
   "source": [
    "!pip install webdriver-manager"
   ]
  },
  {
   "cell_type": "code",
   "execution_count": 3,
   "id": "82407e64",
   "metadata": {},
   "outputs": [],
   "source": [
    "#Q6\n",
    "import selenium\n",
    "from selenium import webdriver\n",
    "import pandas as pd\n",
    "from selenium.webdriver.common.by import By\n",
    "import warnings\n",
    "warnings.filterwarnings('ignore')\n",
    "import time\n",
    "from webdriver_manager.chrome import ChromeDriverManager\n",
    "from selenium.webdriver.chrome.service import Service"
   ]
  },
  {
   "cell_type": "code",
   "execution_count": 4,
   "id": "bb60a8b9",
   "metadata": {},
   "outputs": [
    {
     "name": "stderr",
     "output_type": "stream",
     "text": [
      "[WDM] - Downloading: 100%|██████████| 6.30M/6.30M [00:00<00:00, 9.71MB/s]\n"
     ]
    }
   ],
   "source": [
    "from selenium import webdriver\n",
    "from webdriver_manager.chrome import ChromeDriverManager\n",
    "\n",
    "\n",
    "driver = webdriver.Chrome(service=Service(ChromeDriverManager(version='114.0.5735.90').install()))"
   ]
  },
  {
   "cell_type": "code",
   "execution_count": 5,
   "id": "ba9d2237",
   "metadata": {},
   "outputs": [],
   "source": [
    "driver.get(\"https://www.digit.in/\")"
   ]
  },
  {
   "cell_type": "code",
   "execution_count": 7,
   "id": "01842848",
   "metadata": {},
   "outputs": [],
   "source": [
    "search=driver.find_element(By.XPATH, \"/html/body/div[2]/div/ul/li[2]/span\")\n",
    "search.click()"
   ]
  },
  {
   "cell_type": "code",
   "execution_count": 9,
   "id": "34137a83",
   "metadata": {},
   "outputs": [],
   "source": [
    "search=driver.find_element(By.XPATH, \"/html/body/div[2]/div/ul/li[2]/div[2]/div/div[1]/span[4]\")\n",
    "search.click()\n",
    "search=driver.find_element(By.XPATH, \"/html/body/div[2]/div/ul/li[2]/div[2]/div/div[5]/div/div[2]/a/div\")\n",
    "search.click()"
   ]
  },
  {
   "cell_type": "code",
   "execution_count": 20,
   "id": "020054d6",
   "metadata": {},
   "outputs": [],
   "source": [
    "Lap_name =[]\n",
    "Lap_proc = []\n",
    "Lap_mem = []\n",
    "Lap_price = []"
   ]
  },
  {
   "cell_type": "code",
   "execution_count": 21,
   "id": "07fa5c8f",
   "metadata": {},
   "outputs": [],
   "source": [
    "name_tags = driver.find_elements(By.XPATH, '//span[@class=\"datahreflink\"]')\n",
    "for i in name_tags[0:7]:\n",
    "    name = i.text\n",
    "    Lap_name.append(name)\n",
    "    \n",
    "proc_tags = driver.find_elements(By.XPATH, '//div[@class=\"Spcs-details\"]/table/tbody/tr[2]/td[3]')\n",
    "for i in proc_tags:\n",
    "    processor = i.text\n",
    "    Lap_proc.append(processor)\n",
    "    \n",
    "mem_tags = driver.find_elements(By.XPATH, '//div[@class=\"Spcs-details\"]/table/tbody/tr[5]/td[3]')\n",
    "for i in mem_tags:\n",
    "    memory = i.text\n",
    "    Lap_mem.append(memory)\n",
    "\n",
    "price_tags = driver.find_elements(By.XPATH, '//div[@class=\"Spcs-details\"]/table/tbody/tr[8]/td[3]')\n",
    "for i in price_tags:\n",
    "    price = i.text\n",
    "    Lap_price.append(price)"
   ]
  },
  {
   "cell_type": "code",
   "execution_count": 22,
   "id": "6c725fa3",
   "metadata": {},
   "outputs": [
    {
     "name": "stdout",
     "output_type": "stream",
     "text": [
      "7 7 7 7\n"
     ]
    }
   ],
   "source": [
    "print(len(Lap_name),len(Lap_proc),len(Lap_mem),len(Lap_price))"
   ]
  },
  {
   "cell_type": "code",
   "execution_count": 23,
   "id": "8687f3e3",
   "metadata": {},
   "outputs": [
    {
     "data": {
      "text/html": [
       "<div>\n",
       "<style scoped>\n",
       "    .dataframe tbody tr th:only-of-type {\n",
       "        vertical-align: middle;\n",
       "    }\n",
       "\n",
       "    .dataframe tbody tr th {\n",
       "        vertical-align: top;\n",
       "    }\n",
       "\n",
       "    .dataframe thead th {\n",
       "        text-align: right;\n",
       "    }\n",
       "</style>\n",
       "<table border=\"1\" class=\"dataframe\">\n",
       "  <thead>\n",
       "    <tr style=\"text-align: right;\">\n",
       "      <th></th>\n",
       "      <th>Name</th>\n",
       "      <th>Processor</th>\n",
       "      <th>Memory</th>\n",
       "      <th>Price</th>\n",
       "    </tr>\n",
       "  </thead>\n",
       "  <tbody>\n",
       "    <tr>\n",
       "      <th>0</th>\n",
       "      <td>HP OMEN 17 (2023)</td>\n",
       "      <td>13th Gen Intel Core i7-13700HX 16 core process...</td>\n",
       "      <td>16 GB DDR5GB RAM &amp; 1 TB SSD</td>\n",
       "      <td>₹ 269,777</td>\n",
       "    </tr>\n",
       "    <tr>\n",
       "      <th>1</th>\n",
       "      <td>MSI Titan GT77 12UHS</td>\n",
       "      <td>12th Gen Intel Core i9-12900HX 16 core process...</td>\n",
       "      <td>64 GB DDR5GB RAM &amp; 2 TB SSD</td>\n",
       "      <td>₹ 499,990</td>\n",
       "    </tr>\n",
       "    <tr>\n",
       "      <th>2</th>\n",
       "      <td>Lenovo Legion 5i Pro</td>\n",
       "      <td>12th Gen Intel Core i7-12700H 14 core processo...</td>\n",
       "      <td>32 GB DDR5GB RAM &amp; 1 TB SSD</td>\n",
       "      <td>₹ 179,990</td>\n",
       "    </tr>\n",
       "    <tr>\n",
       "      <th>3</th>\n",
       "      <td>ASUS ROG Strix Scar 18 2023</td>\n",
       "      <td>13th Gen Intel Core i9-13980HX 24 core process...</td>\n",
       "      <td>32 GB DDR5GB RAM &amp; 1 TB SSD</td>\n",
       "      <td>₹ 279,990</td>\n",
       "    </tr>\n",
       "    <tr>\n",
       "      <th>4</th>\n",
       "      <td>Acer Predator Helios Neo 16</td>\n",
       "      <td>13th Gen Intel Core i7-13700HX processor</td>\n",
       "      <td>16 GB DDR5GB RAM &amp; 1 TB SSD</td>\n",
       "      <td>₹ 149,990</td>\n",
       "    </tr>\n",
       "    <tr>\n",
       "      <th>5</th>\n",
       "      <td>ASUS ROG Zephyrus G14</td>\n",
       "      <td>AMD Ryzen 9-6900HS 8 core processor with 4.9 G...</td>\n",
       "      <td>16 GB DDR5GB RAM &amp; 1 TB SSD</td>\n",
       "      <td>₹ 156,990</td>\n",
       "    </tr>\n",
       "    <tr>\n",
       "      <th>6</th>\n",
       "      <td>MSI Cyborg 15</td>\n",
       "      <td>12th Gen Intel Core i7-12650H 10 core processo...</td>\n",
       "      <td>16 GB DDR5GB RAM &amp; 1 TB SSD</td>\n",
       "      <td>₹ 125,000</td>\n",
       "    </tr>\n",
       "  </tbody>\n",
       "</table>\n",
       "</div>"
      ],
      "text/plain": [
       "                          Name  \\\n",
       "0            HP OMEN 17 (2023)   \n",
       "1         MSI Titan GT77 12UHS   \n",
       "2         Lenovo Legion 5i Pro   \n",
       "3  ASUS ROG Strix Scar 18 2023   \n",
       "4  Acer Predator Helios Neo 16   \n",
       "5        ASUS ROG Zephyrus G14   \n",
       "6                MSI Cyborg 15   \n",
       "\n",
       "                                           Processor  \\\n",
       "0  13th Gen Intel Core i7-13700HX 16 core process...   \n",
       "1  12th Gen Intel Core i9-12900HX 16 core process...   \n",
       "2  12th Gen Intel Core i7-12700H 14 core processo...   \n",
       "3  13th Gen Intel Core i9-13980HX 24 core process...   \n",
       "4           13th Gen Intel Core i7-13700HX processor   \n",
       "5  AMD Ryzen 9-6900HS 8 core processor with 4.9 G...   \n",
       "6  12th Gen Intel Core i7-12650H 10 core processo...   \n",
       "\n",
       "                        Memory      Price  \n",
       "0  16 GB DDR5GB RAM & 1 TB SSD  ₹ 269,777  \n",
       "1  64 GB DDR5GB RAM & 2 TB SSD  ₹ 499,990  \n",
       "2  32 GB DDR5GB RAM & 1 TB SSD  ₹ 179,990  \n",
       "3  32 GB DDR5GB RAM & 1 TB SSD  ₹ 279,990  \n",
       "4  16 GB DDR5GB RAM & 1 TB SSD  ₹ 149,990  \n",
       "5  16 GB DDR5GB RAM & 1 TB SSD  ₹ 156,990  \n",
       "6  16 GB DDR5GB RAM & 1 TB SSD  ₹ 125,000  "
      ]
     },
     "execution_count": 23,
     "metadata": {},
     "output_type": "execute_result"
    }
   ],
   "source": [
    "import pandas as pd\n",
    "df = pd.DataFrame({'Name':Lap_name, 'Processor':Lap_proc, 'Memory':Lap_mem, 'Price':Lap_price})\n",
    "df"
   ]
  },
  {
   "cell_type": "code",
   "execution_count": 34,
   "id": "81507bb6",
   "metadata": {},
   "outputs": [],
   "source": [
    "#Q7\n",
    "import selenium\n",
    "from selenium import webdriver\n",
    "import pandas as pd\n",
    "from selenium.webdriver.common.by import By\n",
    "import warnings\n",
    "warnings.filterwarnings('ignore')\n",
    "import time\n",
    "from webdriver_manager.chrome import ChromeDriverManager\n",
    "from selenium.webdriver.chrome.service import Service"
   ]
  },
  {
   "cell_type": "code",
   "execution_count": 35,
   "id": "f41aa146",
   "metadata": {},
   "outputs": [],
   "source": [
    "from selenium import webdriver\n",
    "from webdriver_manager.chrome import ChromeDriverManager\n",
    "\n",
    "\n",
    "driver = webdriver.Chrome(service=Service(ChromeDriverManager(version='114.0.5735.90').install()))"
   ]
  },
  {
   "cell_type": "code",
   "execution_count": 36,
   "id": "095b8ad7",
   "metadata": {},
   "outputs": [],
   "source": [
    "driver.get(\"https://www.forbes.com/?sh=83337f62254c\")"
   ]
  },
  {
   "cell_type": "code",
   "execution_count": 37,
   "id": "a5ed2446",
   "metadata": {},
   "outputs": [],
   "source": [
    "search=driver.find_element(By.XPATH, \"/html/body/div[1]/header/nav/div[1]/div[1]/div\")\n",
    "search.click()"
   ]
  },
  {
   "cell_type": "code",
   "execution_count": 38,
   "id": "bfe5ae83",
   "metadata": {},
   "outputs": [],
   "source": [
    "search=driver.find_element(By.XPATH, \"/html/body/div[1]/header/nav/div[1]/div[1]/div/div[2]/ul/li[2]/div[1]\")\n",
    "search.click()\n",
    "search=driver.find_element(By.XPATH, \"/html/body/div[1]/header/nav/div[1]/div[1]/div/div[2]/ul/li[2]/div[2]/div[3]/ul/li[1]\")\n",
    "search.click()"
   ]
  },
  {
   "cell_type": "code",
   "execution_count": 73,
   "id": "ce4fffd7",
   "metadata": {},
   "outputs": [],
   "source": [
    "#“Rank”, “Name”, “Net worth”, “Age”, “Citizenship”, “Source”, “Industry\n",
    "f_rank=[]\n",
    "f_name=[]\n",
    "f_nworth=[]\n",
    "f_age=[]\n",
    "f_citi=[]\n",
    "f_src=[]\n",
    "f_ind=[]"
   ]
  },
  {
   "cell_type": "code",
   "execution_count": 79,
   "id": "b539f19b",
   "metadata": {},
   "outputs": [],
   "source": [
    "rank_tags = driver.find_elements(By.XPATH, '//div[@class=\"Table_rank___YBhk Table_dataCell__2QCve\"]')\n",
    "for i in rank_tags:\n",
    "    rank = i.text.strip()\n",
    "    f_rank.append(rank)\n",
    "    \n",
    "name_tags = driver.find_elements(By.XPATH, '//div[@class=\"Table_dataCell__2QCve\"]')\n",
    "for i in name_tags[0:200]:\n",
    "    name = i.text\n",
    "    f_name.append(name)"
   ]
  },
  {
   "cell_type": "code",
   "execution_count": 80,
   "id": "6291b7fd",
   "metadata": {},
   "outputs": [
    {
     "data": {
      "text/html": [
       "<div>\n",
       "<style scoped>\n",
       "    .dataframe tbody tr th:only-of-type {\n",
       "        vertical-align: middle;\n",
       "    }\n",
       "\n",
       "    .dataframe tbody tr th {\n",
       "        vertical-align: top;\n",
       "    }\n",
       "\n",
       "    .dataframe thead th {\n",
       "        text-align: right;\n",
       "    }\n",
       "</style>\n",
       "<table border=\"1\" class=\"dataframe\">\n",
       "  <thead>\n",
       "    <tr style=\"text-align: right;\">\n",
       "      <th></th>\n",
       "      <th>Rank</th>\n",
       "      <th>Name</th>\n",
       "    </tr>\n",
       "  </thead>\n",
       "  <tbody>\n",
       "    <tr>\n",
       "      <th>0</th>\n",
       "      <td>1</td>\n",
       "      <td>Bernard Arnault &amp; family</td>\n",
       "    </tr>\n",
       "    <tr>\n",
       "      <th>1</th>\n",
       "      <td>2</td>\n",
       "      <td>74</td>\n",
       "    </tr>\n",
       "    <tr>\n",
       "      <th>2</th>\n",
       "      <td>3</td>\n",
       "      <td>LVMH</td>\n",
       "    </tr>\n",
       "    <tr>\n",
       "      <th>3</th>\n",
       "      <td>4</td>\n",
       "      <td></td>\n",
       "    </tr>\n",
       "    <tr>\n",
       "      <th>4</th>\n",
       "      <td>5</td>\n",
       "      <td>Elon Musk</td>\n",
       "    </tr>\n",
       "    <tr>\n",
       "      <th>...</th>\n",
       "      <td>...</td>\n",
       "      <td>...</td>\n",
       "    </tr>\n",
       "    <tr>\n",
       "      <th>595</th>\n",
       "      <td>195</td>\n",
       "      <td></td>\n",
       "    </tr>\n",
       "    <tr>\n",
       "      <th>596</th>\n",
       "      <td>195</td>\n",
       "      <td>Stephen Schwarzman</td>\n",
       "    </tr>\n",
       "    <tr>\n",
       "      <th>597</th>\n",
       "      <td>195</td>\n",
       "      <td>76</td>\n",
       "    </tr>\n",
       "    <tr>\n",
       "      <th>598</th>\n",
       "      <td>195</td>\n",
       "      <td>Investments</td>\n",
       "    </tr>\n",
       "    <tr>\n",
       "      <th>599</th>\n",
       "      <td>195</td>\n",
       "      <td></td>\n",
       "    </tr>\n",
       "  </tbody>\n",
       "</table>\n",
       "<p>600 rows × 2 columns</p>\n",
       "</div>"
      ],
      "text/plain": [
       "    Rank                      Name\n",
       "0      1  Bernard Arnault & family\n",
       "1      2                        74\n",
       "2      3                      LVMH\n",
       "3      4                          \n",
       "4      5                 Elon Musk\n",
       "..   ...                       ...\n",
       "595  195                          \n",
       "596  195        Stephen Schwarzman\n",
       "597  195                        76\n",
       "598  195               Investments\n",
       "599  195                          \n",
       "\n",
       "[600 rows x 2 columns]"
      ]
     },
     "execution_count": 80,
     "metadata": {},
     "output_type": "execute_result"
    }
   ],
   "source": [
    "import pandas as pd\n",
    "df = pd.DataFrame({'Rank':f_rank,'Name':f_name})\n",
    "df"
   ]
  },
  {
   "cell_type": "code",
   "execution_count": 76,
   "id": "c639944d",
   "metadata": {},
   "outputs": [
    {
     "name": "stdout",
     "output_type": "stream",
     "text": [
      "200 200\n"
     ]
    }
   ],
   "source": [
    "print(len(f_rank),len(f_name))"
   ]
  },
  {
   "cell_type": "code",
   "execution_count": 86,
   "id": "750e1f2b",
   "metadata": {},
   "outputs": [],
   "source": [
    "import selenium\n",
    "from selenium import webdriver\n",
    "import pandas as pd\n",
    "from selenium.webdriver.common.by import By\n",
    "import warnings\n",
    "warnings.filterwarnings('ignore')\n",
    "import time\n",
    "from webdriver_manager.chrome import ChromeDriverManager\n",
    "from selenium.webdriver.chrome.service import Service\n",
    "from selenium.webdriver.common.keys import Keys"
   ]
  },
  {
   "cell_type": "code",
   "execution_count": 87,
   "id": "6ac3c71d",
   "metadata": {},
   "outputs": [],
   "source": [
    "from selenium import webdriver\n",
    "from webdriver_manager.chrome import ChromeDriverManager\n",
    "\n",
    "\n",
    "driver = webdriver.Chrome(service=Service(ChromeDriverManager(version='114.0.5735.90').install()))\n",
    "driver.get(\"https://www.google.com/maps\")"
   ]
  },
  {
   "cell_type": "code",
   "execution_count": 93,
   "id": "7d0dc5a0",
   "metadata": {},
   "outputs": [],
   "source": [
    "# Search for the city\n",
    "city_name = \"New York\"  # Replace with the city you want to search for\n",
    "search_box = driver.find_element(By.ID,\"searchboxinput\")\n",
    "search_box.send_keys(city_name)\n",
    "search_box.send_keys(Keys.RETURN)\n",
    "\n",
    "time.sleep(5)"
   ]
  },
  {
   "cell_type": "code",
   "execution_count": 94,
   "id": "cb3c05e3",
   "metadata": {},
   "outputs": [
    {
     "name": "stdout",
     "output_type": "stream",
     "text": [
      "Error: Message: no such element: Unable to locate element: {\"method\":\"xpath\",\"selector\":\"//div[@class=\"ugiz4pqJLAG__primary-text gm2-body-2\"]/a\"}\n",
      "  (Session info: chrome=115.0.5790.171); For documentation on this error, please visit: https://www.selenium.dev/documentation/webdriver/troubleshooting/errors#no-such-element-exception\n",
      "Stacktrace:\n",
      "Backtrace:\n",
      "\tGetHandleVerifier [0x0033A813+48355]\n",
      "\t(No symbol) [0x002CC4B1]\n",
      "\t(No symbol) [0x001D5358]\n",
      "\t(No symbol) [0x002009A5]\n",
      "\t(No symbol) [0x00200B3B]\n",
      "\t(No symbol) [0x0022E232]\n",
      "\t(No symbol) [0x0021A784]\n",
      "\t(No symbol) [0x0022C922]\n",
      "\t(No symbol) [0x0021A536]\n",
      "\t(No symbol) [0x001F82DC]\n",
      "\t(No symbol) [0x001F93DD]\n",
      "\tGetHandleVerifier [0x0059AABD+2539405]\n",
      "\tGetHandleVerifier [0x005DA78F+2800735]\n",
      "\tGetHandleVerifier [0x005D456C+2775612]\n",
      "\tGetHandleVerifier [0x003C51E0+616112]\n",
      "\t(No symbol) [0x002D5F8C]\n",
      "\t(No symbol) [0x002D2328]\n",
      "\t(No symbol) [0x002D240B]\n",
      "\t(No symbol) [0x002C4FF7]\n",
      "\tBaseThreadInitThunk [0x768700C9+25]\n",
      "\tRtlGetAppContainerNamedObjectPath [0x778F7B1E+286]\n",
      "\tRtlGetAppContainerNamedObjectPath [0x778F7AEE+238]\n",
      "\n"
     ]
    }
   ],
   "source": [
    "try:\n",
    "    link_element = driver.find_element(By.XPATH,'//div[@class=\"ugiz4pqJLAG__primary-text gm2-body-2\"]/a')\n",
    "    link = link_element.get_attribute(\"href\")\n",
    "\n",
    "    # Extract latitude and longitude from the link\n",
    "    start_index = link.index(\"=\") + 1\n",
    "    end_index = link.index(\"&\")\n",
    "    lat_lng = link[start_index:end_index].split(\",\")\n",
    "    latitude = lat_lng[0]\n",
    "    longitude = lat_lng[1]\n",
    "\n",
    "    print(f\"Latitude: {latitude}\\nLongitude: {longitude}\")\n",
    "except Exception as e:\n",
    "    print(\"Error:\", e)\n"
   ]
  },
  {
   "cell_type": "code",
   "execution_count": null,
   "id": "2b2147a5",
   "metadata": {},
   "outputs": [],
   "source": []
  },
  {
   "cell_type": "code",
   "execution_count": null,
   "id": "1499ca4f",
   "metadata": {},
   "outputs": [],
   "source": []
  }
 ],
 "metadata": {
  "kernelspec": {
   "display_name": "Python 3 (ipykernel)",
   "language": "python",
   "name": "python3"
  },
  "language_info": {
   "codemirror_mode": {
    "name": "ipython",
    "version": 3
   },
   "file_extension": ".py",
   "mimetype": "text/x-python",
   "name": "python",
   "nbconvert_exporter": "python",
   "pygments_lexer": "ipython3",
   "version": "3.11.3"
  }
 },
 "nbformat": 4,
 "nbformat_minor": 5
}
